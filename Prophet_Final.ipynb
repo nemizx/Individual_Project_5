{
  "nbformat": 4,
  "nbformat_minor": 0,
  "metadata": {
    "colab": {
      "provenance": []
    },
    "kernelspec": {
      "name": "python3",
      "display_name": "Python 3"
    },
    "language_info": {
      "name": "python"
    }
  },
  "cells": [
    {
      "cell_type": "code",
      "execution_count": null,
      "metadata": {
        "id": "5JrVFcCgbiKM"
      },
      "outputs": [],
      "source": [
        "import pandas as pd\n",
        "import matplotlib.pyplot as plt\n",
        "from prophet import Prophet\n",
        "from sklearn.model_selection import train_test_split\n",
        "\n",
        "file_path = r\"D:\\Downloads\\Germany_Simplified_Data_Short.csv\"\n",
        "data = pd.read_csv(file_path)\n",
        "data['Datetime'] = pd.to_datetime(data['Datetime'], format='%d/%m/%Y %H:%M')\n",
        "data = data.rename(columns={\"Datetime\": \"ds\", \"Price (EUR/MWHE)\": \"y\"})\n",
        "data.set_index('ds', inplace=True)\n",
        "\n",
        "train_data, test_data = train_test_split(data, test_size=0.66, shuffle=False)\n",
        "\n",
        "model = Prophet(yearly_seasonality=True, weekly_seasonality=True, daily_seasonality=True,\n",
        "                seasonality_mode='additive', changepoint_prior_scale=0.01,\n",
        "                seasonality_prior_scale=1.0, interval_width=0.1)\n",
        "model.add_seasonality(name='monthly', period=30.5, fourier_order=5)\n",
        "model.fit(train_data.reset_index())\n",
        "\n",
        "future = model.make_future_dataframe(periods=len(test_data), freq='H')\n",
        "forecast = model.predict(future)\n",
        "\n",
        "predictions_df = pd.DataFrame({\n",
        "    'Datetime': test_data.index,\n",
        "    'Actual_Price': test_data['y'].values,\n",
        "    'Prophet_Predicted': forecast['yhat'].iloc[-len(test_data):].values,\n",
        "})\n",
        "\n",
        "output_path = r\"D:\\Downloads\\Prophet_Predictions.csv\"\n",
        "predictions_df.to_csv(output_path, index=False)\n",
        "\n",
        "plt.figure(figsize=(12, 6))\n",
        "plt.plot(test_data.index, test_data['y'], label=\"Actual Price\")\n",
        "plt.plot(test_data.index, forecast['yhat'].iloc[-len(test_data):], label=\"Prophet Forecast\")\n",
        "plt.legend()\n",
        "plt.xlabel(\"Time\")\n",
        "plt.ylabel(\"Price\")\n",
        "plt.title(\"Comparison of Prediction Models (Prophet)\")\n",
        "plt.grid()\n",
        "plt.show()\n",
        "\n",
        "start_date = '09/09/2023 00:00'\n",
        "end_date = '13/09/2023 00:00'\n",
        "date_mask = (predictions_df['Datetime'] >= start_date) & (predictions_df['Datetime'] <= end_date)\n",
        "filtered_df = predictions_df[date_mask]\n",
        "filtered_df['Datetime'] = pd.to_datetime(filtered_df['Datetime'])\n",
        "\n",
        "plt.figure(figsize=(12, 6))\n",
        "plt.plot(filtered_df['Datetime'], filtered_df['Actual_Price'], label=\"Actual Price\", color=\"blue\")\n",
        "plt.plot(filtered_df['Datetime'], filtered_df['Prophet_Predicted'], label=\"Prophet Forecast\", linestyle=\"--\", color=\"orange\")\n",
        "plt.legend()\n",
        "plt.xlabel(\"Datetime\")\n",
        "plt.ylabel(\"Price\")\n",
        "plt.title(\"Prophet Forecast vs Actual Prices\")\n",
        "plt.grid()\n",
        "plt.show()"
      ]
    }
  ]
}